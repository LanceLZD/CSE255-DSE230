{
 "cells": [
  {
   "cell_type": "markdown",
   "metadata": {
    "deletable": true,
    "editable": true,
    "run_control": {
     "frozen": false,
     "read_only": false
    },
    "slideshow": {
     "slide_type": "slide"
    }
   },
   "source": [
    "## measuring latency of the memory Hierarchy\n",
    "The purpose of this exercise is to test how fast different compture's can run the computationally intensive tasks. After the big computational task is complete, you create a summary file about how fast your comptuer ran. This summary file will be submitted in your homework for a grade.\n",
    "\n",
    "With respect to this notebook, you just need to run each of the cells, almost no modifications required. \n",
    "\n",
    "Please Note: There are cells marked to be run by specific OS users. So, for those cells, run only the ones for the OS you are using. For example, if you are a windows OS user, then run only \"Collecting System Description: For Windows  users ONLY\" and not other cells."
   ]
  },
  {
   "cell_type": "markdown",
   "metadata": {
    "deletable": true,
    "editable": true,
    "run_control": {
     "frozen": false,
     "read_only": false
    },
    "slideshow": {
     "slide_type": "subslide"
    }
   },
   "source": [
    "## Import modules"
   ]
  },
  {
   "cell_type": "code",
   "execution_count": 1,
   "metadata": {
    "collapsed": false,
    "deletable": true,
    "editable": true,
    "run_control": {
     "frozen": false,
     "read_only": false
    },
    "slideshow": {
     "slide_type": "fragment"
    }
   },
   "outputs": [
    {
     "name": "stdout",
     "output_type": "stream",
     "text": [
      "Populating the interactive namespace from numpy and matplotlib\n"
     ]
    }
   ],
   "source": [
    "# Enable automatic reload of libraries\n",
    "%load_ext autoreload\n",
    "%autoreload 2 # means that all modules are reloaded before every command\n",
    "\n",
    "%pylab inline\n",
    "from numpy import *"
   ]
  },
  {
   "cell_type": "code",
   "execution_count": 2,
   "metadata": {
    "collapsed": false,
    "deletable": true,
    "editable": true,
    "run_control": {
     "frozen": false,
     "read_only": false
    },
    "slideshow": {
     "slide_type": "subslide"
    }
   },
   "outputs": [],
   "source": [
    "import time\n",
    "from matplotlib.backends.backend_pdf import PdfPages\n",
    "\n",
    "from os.path import isfile,isdir\n",
    "from os import mkdir\n",
    "import os"
   ]
  },
  {
   "cell_type": "code",
   "execution_count": 3,
   "metadata": {
    "collapsed": false,
    "deletable": true,
    "editable": true,
    "run_control": {
     "frozen": false,
     "read_only": false
    },
    "slideshow": {
     "slide_type": "subslide"
    }
   },
   "outputs": [],
   "source": [
    "import sys\n",
    "sys.path.append('./lib')\n",
    "from measureRandomAccess import measureRandomAccess\n",
    "from PlotTime import PlotTime\n",
    "from create_file import create_file,tee"
   ]
  },
  {
   "cell_type": "markdown",
   "metadata": {
    "deletable": true,
    "editable": true,
    "run_control": {
     "frozen": false,
     "read_only": false
    }
   },
   "source": [
    "## setting parameters\n",
    "* We test access to arrays whose size is a multiple of 1MB. `n` is the block size.\n",
    "* `m_list` defines the size of the arrays we test, in multiples of block-size.\n",
    "* `k` defines the number of memory accesses."
   ]
  },
  {
   "cell_type": "code",
   "execution_count": 4,
   "metadata": {
    "collapsed": false,
    "deletable": true,
    "editable": true,
    "run_control": {
     "frozen": false,
     "read_only": false
    }
   },
   "outputs": [
    {
     "name": "stdout",
     "output_type": "stream",
     "text": [
      "n=1000000, k=100000, m_list= [1, 10, 100, 1000]\n"
     ]
    }
   ],
   "source": [
    "n=1000000 # size of single block (1MB)\n",
    "m_list=[1,10,100,1000] # size of file in blocks\n",
    "k=100000;  # number of repeats\n",
    "L=len(m_list)\n",
    "print 'n=%d, k=%d, m_list='%(n,k),m_list"
   ]
  },
  {
   "cell_type": "markdown",
   "metadata": {
    "deletable": true,
    "editable": true,
    "run_control": {
     "frozen": false,
     "read_only": false
    }
   },
   "source": [
    "## Set working directory\n",
    "This script generates large files. We put these files in a separate directory so it is easier to delete them later."
   ]
  },
  {
   "cell_type": "code",
   "execution_count": 5,
   "metadata": {
    "collapsed": false,
    "deletable": true,
    "editable": true,
    "run_control": {
     "frozen": false,
     "read_only": false
    }
   },
   "outputs": [
    {
     "name": "stdout",
     "output_type": "stream",
     "text": [
      "C:\\Users\\Think\\Documents\\CSE255\\Classes\\0.MemoryLatency\\logs\\1492038204\n"
     ]
    }
   ],
   "source": [
    "log_root='./logs'\n",
    "if not isdir(log_root): mkdir(log_root)\n",
    "TimeStamp=str(int(time.time()))\n",
    "log_dir=log_root+'/'+TimeStamp\n",
    "mkdir(log_dir)\n",
    "%cd $log_dir\n",
    "stat=open('stats.txt','w')\n",
    "\n",
    "def tee(line):\n",
    "    print line\n",
    "    stat.write(line+'\\n')"
   ]
  },
  {
   "cell_type": "code",
   "execution_count": 6,
   "metadata": {
    "collapsed": false,
    "deletable": true,
    "editable": true,
    "run_control": {
     "frozen": false,
     "read_only": false
    }
   },
   "outputs": [],
   "source": [
    "mean=zeros([2,L])   #0: using disk, 1: using memory\n",
    "std=zeros([2,L])\n",
    "T=zeros([2,L,k])"
   ]
  },
  {
   "cell_type": "code",
   "execution_count": 8,
   "metadata": {
    "collapsed": false,
    "deletable": true,
    "editable": true,
    "run_control": {
     "frozen": false,
     "read_only": false
    },
    "scrolled": true
   },
   "outputs": [
    {
     "name": "stdout",
     "output_type": "stream",
     "text": [
      "              \n",
      "creating 1000000 byte block: 0.000000 sec, writing 1 blocks 0.005000 sec\n",
      "File pokes mean=7.74999856949e-06, file std=8.80336914201e-05\n",
      "Memory pokes mean=8.60002040863e-07, Memory std=2.93132135521e-05\n",
      "              \n",
      "creating 1000000 byte block: 0.000000 sec, writing 10 blocks 0.025000 sec\n",
      "File pokes mean=9.9100112915e-06, file std=9.91554914283e-05\n",
      "Memory pokes mean=9.50002670288e-07, Memory std=3.08075128366e-05\n",
      "              \n",
      "creating 1000000 byte block: 0.001000 sec, writing 100 blocks 0.232000 sec\n",
      "File pokes mean=1.11499977112e-05, file std=0.000105478305428\n",
      "Memory pokes mean=1.05000019073e-06, Memory std=3.23866931581e-05\n",
      "              \n",
      "creating 1000000 byte block: 0.000000 sec, writing 1000 blocks 3.021000 sec\n",
      "File pokes mean=1.34400200844e-05, file std=0.000359109301849\n",
      "Memory pokes mean=1.00999593735e-06, Memory std=3.20775450371e-05\n"
     ]
    }
   ],
   "source": [
    "Random_pokes=[]\n",
    "for m_i in range(len(m_list)):\n",
    "    \n",
    "    m=m_list[m_i]\n",
    "    (t_mem,t_disk) = create_file(n,m,filename='BlockData'+str(m))\n",
    "\n",
    "    (mean[0,m_i],std[0,m_i],T[0,m_i]) = measureRandomAccess(n*m,filename='BlockData'+str(m),k=k)\n",
    "    T[0,m_i]=sorted(T[0,m_i])\n",
    "    tee('\\rFile pokes mean='+str(mean[0,m_i])+', file std='+str(std[0,m_i]))\n",
    "\n",
    "    (mean[1,m_i],std[1,m_i],T[1,m_i]) = measureRandomAccess(n*m,k=k)\n",
    "    T[1,m_i]=sorted(T[1,m_i])\n",
    "    tee('\\rMemory pokes mean='+str(mean[1,m_i])+', Memory std='+str(std[1,m_i]))\n",
    "    \n",
    "    Random_pokes.append({'m_i':m_i,\n",
    "                        'm':m,\n",
    "                        'memory_mean': mean[1,m_i],\n",
    "                        'memory_std': std[1,m_i],\n",
    "                        'memory_largest': T[1,m_i][-1000:],\n",
    "                        'file_mean': mean[0,m_i],\n",
    "                        'file_std': std[0,m_i],\n",
    "                        'file_largest': T[0,m_i][-1000:]                \n",
    "                })"
   ]
  },
  {
   "cell_type": "markdown",
   "metadata": {
    "deletable": true,
    "editable": true,
    "run_control": {
     "frozen": false,
     "read_only": false
    }
   },
   "source": [
    "## Characterize random access to storage"
   ]
  },
  {
   "cell_type": "code",
   "execution_count": 9,
   "metadata": {
    "collapsed": false,
    "deletable": true,
    "editable": true,
    "run_control": {
     "frozen": false,
     "read_only": false
    }
   },
   "outputs": [
    {
     "data": {
      "image/png": "[encoded data removed]",
      "text/plain": [
       "<matplotlib.figure.Figure at 0x9155978>"
      ]
     },
     "metadata": {},
     "output_type": "display_data"
    }
   ],
   "source": [
    "pp = PdfPages('MemoryFigure.pdf')\n",
    "figure(figsize=(6,4))\n",
    "\n",
    "Colors='bgrcmyk'  # The colors for the plot\n",
    "LineStyles=['-',':']\n",
    "Legends=['F','M']\n",
    "\n",
    "fig = matplotlib.pyplot.gcf()\n",
    "fig.set_size_inches(18.5,10.5)\n",
    "\n",
    "for m_i in range(len(m_list)):\n",
    "    Color=Colors[m_i % len(Colors)]\n",
    "    for Type in [0,1]:\n",
    "        PlotTime(sort(T[Type,m_i]),mean[Type,m_i],std[Type,m_i],\n",
    "                 Color=Color,LS=LineStyles[Type],Legend=('%dMB-' % m_list[m_i])+Legends[Type],\n",
    "                 m_i=m_i)\n",
    "\n",
    "grid()\n",
    "legend(fontsize='medium')\n",
    "xlabel('delay (sec)')\n",
    "ylabel('1-CDF')\n",
    "pp.savefig()\n",
    "pp.close()"
   ]
  },
  {
   "cell_type": "markdown",
   "metadata": {
    "deletable": true,
    "editable": true,
    "run_control": {
     "frozen": false,
     "read_only": false
    }
   },
   "source": [
    "## Characterize sequential access"
   ]
  },
  {
   "cell_type": "code",
   "execution_count": 10,
   "metadata": {
    "collapsed": false,
    "deletable": true,
    "editable": true,
    "run_control": {
     "frozen": false,
     "read_only": false
    }
   },
   "outputs": [
    {
     "name": "stdout",
     "output_type": "stream",
     "text": [
      "Consecutive Memory writes\n",
      "array of length 1000 repeated 1 times. total size= 0.001 MB, Time per element= 0\n",
      "array of length 1000 repeated 3 times. total size= 0.003 MB, Time per element= 0\n",
      "array of length 1000 repeated 5 times. total size= 0.005 MB, Time per element= 0\n",
      "array of length 1000 repeated 7 times. total size= 0.007 MB, Time per element= 1.42847e-07\n",
      "array of length 1000 repeated 10 times. total size= 0.010 MB, Time per element= 0\n",
      "array of length 1000 repeated 100 times. total size= 0.100 MB, Time per element= 1.00017e-08\n",
      "array of length 1000 repeated 1000 times. total size= 1.000 MB, Time per element= 6.99997e-09\n",
      "array of length 1000 repeated 10000 times. total size=10.000 MB, Time per element= 7.40001e-09\n",
      "array of length 1000 repeated 100000 times. total size=100.000 MB, Time per element= 6.42e-09\n",
      "array of length 1000 repeated 1000000 times. total size=1000.000 MB, Time per element= 7.334e-09\n"
     ]
    }
   ],
   "source": [
    "import time\n",
    "Consec=[]\n",
    "Line='Consecutive Memory writes'\n",
    "print Line; stat.write(Line+'\\n')\n",
    "n=1000\n",
    "r=np.array(range(n))\n",
    "for m in [1,3,5,7,10,100,1000,10000,100000,1000000]:\n",
    "    t1=time.time()\n",
    "    A=np.repeat(r,m)\n",
    "    t2=time.time()\n",
    "    Consec.append((n,m,float(n*m)/1000000,(t2-t1)/float(n*m)))\n",
    "    tee(\"array of length %d repeated %d times. total size=%6.3f MB, Time per element= %g\" % (n,m,float(n*m)/1000000,(t2-t1)/float(n*m)))\n",
    "A=[];r=[]\n",
    "stat.close()"
   ]
  },
  {
   "cell_type": "markdown",
   "metadata": {
    "deletable": true,
    "editable": true,
    "run_control": {
     "frozen": false,
     "read_only": false
    }
   },
   "source": [
    "## Observations\n",
    "\n",
    "* If you write to consecutive locations, you have a per-byte time of around $10^{-8}$ if you jump around you can't do better than $10^{-6}$.\n",
    "* As you increase the size of the array/file random access speed decreases dramatically, while sequential access speed stays more or less constant.\n",
    "* The high latency tails are much bigger than what you'd expect from a normal distribution with the same mean and std.\n",
    "\n",
    "## Impact on Big Data Analytics\n",
    "* Clock rate is stuck at around 3GHz, and is likely to be stuck there for the forseeable future.\n",
    "* **Faster** computers / disks / networks are **expensive** \n",
    "* The cost-effective solution is often a cluster of many cheap computers, each with many cores and break up the data so that each computer has a small fraction of the data.\n",
    "* Data-Centers and the \"Cloud\""
   ]
  },
  {
   "cell_type": "markdown",
   "metadata": {
    "deletable": true,
    "editable": true,
    "run_control": {
     "frozen": false,
     "read_only": false
    }
   },
   "source": [
    "## Logging our results\n",
    "So that they can be compared to those of others."
   ]
  },
  {
   "cell_type": "code",
   "execution_count": 11,
   "metadata": {
    "collapsed": true,
    "deletable": true,
    "editable": true,
    "run_control": {
     "frozen": false,
     "read_only": false
    }
   },
   "outputs": [],
   "source": [
    "isVM = [\"False\"]"
   ]
  },
  {
   "cell_type": "markdown",
   "metadata": {
    "deletable": true,
    "editable": true,
    "run_control": {
     "frozen": false,
     "read_only": false
    }
   },
   "source": [
    "### Uncomment and Run the following code ONLY if you are running a Virtual Machine"
   ]
  },
  {
   "cell_type": "code",
   "execution_count": null,
   "metadata": {
    "collapsed": true,
    "deletable": true,
    "editable": true,
    "run_control": {
     "frozen": false,
     "read_only": false
    }
   },
   "outputs": [],
   "source": [
    "#isVM = [\"True\"]"
   ]
  },
  {
   "cell_type": "markdown",
   "metadata": {
    "deletable": true,
    "editable": true,
    "run_control": {
     "frozen": false,
     "read_only": false
    }
   },
   "source": [
    "### Collecting System Description: For Mac users ONLY\n",
    "\n",
    "The next cell needs to be run only by Mac OS users. If run on other OS platforms, it will throw error. "
   ]
  },
  {
   "cell_type": "code",
   "execution_count": null,
   "metadata": {
    "collapsed": false,
    "deletable": true,
    "editable": true,
    "run_control": {
     "frozen": false,
     "read_only": false
    }
   },
   "outputs": [],
   "source": [
    "brand_name = [\"brand: Macbook\"]\n",
    "os_info = !sysctl kernel.osrelease kernel.osrevision kernel.ostype kernel.osversion\n",
    "cpu_info = !sysctl machdep.cpu.brand_string machdep.cpu.cache.L2_associativity machdep.cpu.cache.linesize machdep.cpu.cache.size machdep.cpu.core_count\n",
    "cache_info = !sysctl kern.procname hw.memsize hw.cpufamily hw.activecpu hw.cachelinesize hw.cpufrequency hw.l1dcachesize hw.l1icachesize hw.l2cachesize hw.l3cachesize hw.cputype "
   ]
  },
  {
   "cell_type": "markdown",
   "metadata": {
    "deletable": true,
    "editable": true,
    "run_control": {
     "frozen": false,
     "read_only": false
    }
   },
   "source": [
    "### Collecting System Description:  For Linux OS users ONLY\n",
    "\n",
    "The next cell needs to be run only by Linux OS users. If run on other OS platforms, it will throw error."
   ]
  },
  {
   "cell_type": "code",
   "execution_count": null,
   "metadata": {
    "collapsed": false,
    "deletable": true,
    "editable": true,
    "run_control": {
     "frozen": false,
     "read_only": false
    }
   },
   "outputs": [],
   "source": [
    "brand_name = [\"brand: Linux\"]\n",
    "\n",
    "os_info = !sysctl kernel.ostype kernel.osrelease \n",
    "os_version = !lsb_release -r\n",
    "memory_size = !cat /proc/meminfo | grep 'MemTotal'\n",
    "os_info += os_version + memory_size\n",
    "\n",
    "cache_L1i = !lscpu | grep 'L1i'\n",
    "cache_L1d = !lscpu | grep 'L1d'\n",
    "cache_L2 = !lscpu | grep 'L2'\n",
    "cache_L3 = !lscpu | grep 'L3'\n",
    "cache_info = cache_L1i + cache_L1d + cache_L2 + cache_L3\n",
    "\n",
    "cpu_type = !lscpu | grep 'CPU family'\n",
    "cpu_brand = !cat /proc/cpuinfo | grep -m 1 'model name'\n",
    "cpu_frequency = !lscpu | grep 'CPU MHz'\n",
    "cpu_core_count = !lscpu | grep 'CPU(s)'\n",
    "cpu_info = cpu_type + cpu_brand + cpu_frequency + cpu_core_count\n",
    "\n"
   ]
  },
  {
   "cell_type": "markdown",
   "metadata": {
    "deletable": true,
    "editable": true,
    "run_control": {
     "frozen": false,
     "read_only": false
    }
   },
   "source": [
    "###  Collecting System Description: For Windows users ONLY \n",
    "The next cell needs to be run only by Windows OS users. If run on other OS platforms, it will throw error."
   ]
  },
  {
   "cell_type": "code",
   "execution_count": 12,
   "metadata": {
    "collapsed": true,
    "deletable": true,
    "editable": true,
    "run_control": {
     "frozen": false,
     "read_only": false
    }
   },
   "outputs": [],
   "source": [
    "brand_name = [\"brand: Windows\"]\n",
    "\n",
    "os_release  = !ver\n",
    "os_type     = !WMIC CPU get  SystemCreationClassName\n",
    "memory      = !WMIC ComputerSystem get TotalPhysicalMemory\n",
    "os_info     = os_release + os_type\n",
    "\n",
    "cpu_core_count  = !WMIC CPU get NumberOfCores\n",
    "cpu_speed       = !WMIC CPU get CurrentClockSpeed\n",
    "cpu_model_name  = !WMIC CPU get name\n",
    "cpu_info        = cpu_core_count + cpu_speed + cpu_model_name\n",
    "\n",
    "l2cachesize = !WMIC CPU get L2CacheSize\n",
    "l3cachesize = !WMIC CPU get L3CacheSize\n",
    "cache_info  = l2cachesize + l3cachesize\n"
   ]
  },
  {
   "cell_type": "code",
   "execution_count": 13,
   "metadata": {
    "collapsed": false,
    "deletable": true,
    "editable": true,
    "run_control": {
     "frozen": false,
     "read_only": false
    }
   },
   "outputs": [
    {
     "data": {
      "text/plain": [
       "['False',\n",
       " 'brand: Windows',\n",
       " '',\n",
       " 'Microsoft Windows [\\xb0\\xe6\\xb1\\xbe 10.0.14393]',\n",
       " 'SystemCreationClassName  ',\n",
       " '',\n",
       " 'Win32_ComputerSystem     ',\n",
       " '',\n",
       " '',\n",
       " '',\n",
       " 'L2CacheSize  ',\n",
       " '',\n",
       " '256          ',\n",
       " '',\n",
       " '',\n",
       " '',\n",
       " 'L3CacheSize  ',\n",
       " '',\n",
       " '4096         ',\n",
       " '',\n",
       " '',\n",
       " '',\n",
       " 'NumberOfCores  ',\n",
       " '',\n",
       " '2              ',\n",
       " '',\n",
       " '',\n",
       " '',\n",
       " 'CurrentClockSpeed  ',\n",
       " '',\n",
       " '1800               ',\n",
       " '',\n",
       " '',\n",
       " '',\n",
       " 'Name                                      ',\n",
       " '',\n",
       " 'Intel(R) Core(TM) i7-4500U CPU @ 1.80GHz  ',\n",
       " '',\n",
       " '',\n",
       " '']"
      ]
     },
     "execution_count": 13,
     "metadata": {},
     "output_type": "execute_result"
    }
   ],
   "source": [
    "description= isVM + brand_name + os_info + cache_info + cpu_info\n",
    "description"
   ]
  },
  {
   "cell_type": "code",
   "execution_count": 14,
   "metadata": {
    "collapsed": false,
    "deletable": true,
    "editable": true,
    "run_control": {
     "frozen": false,
     "read_only": false
    }
   },
   "outputs": [],
   "source": [
    "# Writing all necesarry information int oa pickle file.\n",
    "import pickle\n",
    "with open('memory_report.pkl','wb') as pickle_file:\n",
    "    pickle.dump({'description':description,\n",
    "                'Consec':Consec,\n",
    "                'Random_pokes':Random_pokes},\n",
    "               pickle_file)"
   ]
  },
  {
   "cell_type": "markdown",
   "metadata": {
    "deletable": true,
    "editable": true,
    "run_control": {
     "frozen": false,
     "read_only": false
    }
   },
   "source": [
    "## Important:\n",
    "Make sure to delete the logs directory! The commands that you ran above made the log directory very big, you WILL NOT be submitting the log directory."
   ]
  },
  {
   "cell_type": "markdown",
   "metadata": {
    "deletable": true,
    "editable": true,
    "run_control": {
     "frozen": false,
     "read_only": false
    }
   },
   "source": [
    "\n",
    "\n",
    "\n",
    "\n",
    "\n",
    "\n",
    "\n",
    "\n",
    "\n"
   ]
  },
  {
   "cell_type": "markdown",
   "metadata": {},
   "source": [
    "\n",
    "\n",
    "\n",
    "\n",
    "\n",
    "\n",
    "\n",
    "\n",
    "\n"
   ]
  },
  {
   "cell_type": "markdown",
   "metadata": {},
   "source": [
    "\n",
    "\n",
    "\n",
    "\n",
    "\n",
    "\n",
    "\n",
    "\n",
    "\n"
   ]
  }
 ],
 "metadata": {
  "anaconda-cloud": {},
  "hide_input": false,
  "kernelspec": {
   "display_name": "Python 2",
   "language": "python",
   "name": "python2"
  },
  "language_info": {
   "codemirror_mode": {
    "name": "ipython",
    "version": 2
   },
   "file_extension": ".py",
   "mimetype": "text/x-python",
   "name": "python",
   "nbconvert_exporter": "python",
   "pygments_lexer": "ipython2",
   "version": "2.7.13"
  },
  "toc": {
   "colors": {
    "hover_highlight": "#DAA520",
    "running_highlight": "#FF0000",
    "selected_highlight": "#FFD700"
   },
   "moveMenuLeft": true,
   "nav_menu": {
    "height": "82px",
    "width": "252px"
   },
   "navigate_menu": true,
   "number_sections": true,
   "sideBar": true,
   "threshold": 4,
   "toc_cell": false,
   "toc_position": {
    "height": "597px",
    "left": "0px",
    "right": "1204px",
    "top": "106px",
    "width": "204px"
   },
   "toc_section_display": "block",
   "toc_window_display": true,
   "widenNotebook": false
  }
 },
 "nbformat": 4,
 "nbformat_minor": 0
}
